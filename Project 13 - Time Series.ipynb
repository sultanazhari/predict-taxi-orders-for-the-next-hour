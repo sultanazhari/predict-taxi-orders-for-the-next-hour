{
 "cells": [
  {
   "cell_type": "markdown",
   "metadata": {},
   "source": [
    "# Deskripsi tugas\n",
    "\n",
    "Perusahaan taksi bernama Sweet Lift telah mengumpulkan data historis tentang pesanan taksi di bandara. Untuk menarik lebih banyak pengemudi pada jam sibuk, perlu memprediksi jumlah pesanan taksi untuk satu jam berikutnya. Buat model untuk prediksi seperti itu.\n",
    "\n",
    "Metrik RMSE pada *test set* tidak boleh lebih dari 48.\n",
    "\n",
    "## Instruksi tugas\n",
    "\n",
    "1. Unduh data dan lakukan *resampling* dalam satu jam.\n",
    "2. Analisis datanya.\n",
    "3.  Latih model yang berbeda dengan hiperparameter yang berbeda pula. Sampel tes harus 10% dari *dataset* awal.\n",
    "4. Uji data menggunakan sampel tes dan berikan kesimpulan.\n",
    "\n",
    "## Deskripsi data\n",
    "\n",
    "Data tersimpan di file `taxi.csv`. Jumlah pesanan di kolom'*num_orders*'."
   ]
  },
  {
   "cell_type": "code",
   "execution_count": 54,
   "metadata": {},
   "outputs": [],
   "source": [
    "# Import Library untuk mengolah data\n",
    "import pandas as pd\n",
    "import numpy as np\n",
    "\n",
    "#Import Library untuk visualisasi data\n",
    "import seaborn as sns, matplotlib.pyplot as plt\n",
    "\n",
    "#Import Library untuk statistika model\n",
    "from statsmodels.tsa.seasonal import seasonal_decompose \n",
    "\n",
    "#Import Library untuk Machine Learning\n",
    "from sklearn.model_selection import train_test_split\n",
    "from sklearn.linear_model import LinearRegression, RidgeCV, LassoCV\n",
    "from sklearn.ensemble import RandomForestRegressor, GradientBoostingRegressor\n",
    "\n",
    "from sklearn.metrics import mean_squared_error, mean_absolute_error"
   ]
  },
  {
   "cell_type": "code",
   "execution_count": 55,
   "metadata": {},
   "outputs": [],
   "source": [
    "#Load dataset\n",
    "data = pd.read_csv('https://practicum-content.s3.us-west-1.amazonaws.com/datasets/taxi.csv', \n",
    "                   index_col=[0], parse_dates=[0]\n",
    ")"
   ]
  },
  {
   "cell_type": "code",
   "execution_count": 56,
   "metadata": {},
   "outputs": [
    {
     "name": "stdout",
     "output_type": "stream",
     "text": [
      "<class 'pandas.core.frame.DataFrame'>\n",
      "DatetimeIndex: 26496 entries, 2018-03-01 00:00:00 to 2018-08-31 23:50:00\n",
      "Data columns (total 1 columns):\n",
      " #   Column      Non-Null Count  Dtype\n",
      "---  ------      --------------  -----\n",
      " 0   num_orders  26496 non-null  int64\n",
      "dtypes: int64(1)\n",
      "memory usage: 414.0 KB\n"
     ]
    }
   ],
   "source": [
    "# Mendapatkan informasi data\n",
    "data.info()"
   ]
  },
  {
   "cell_type": "markdown",
   "metadata": {},
   "source": [
    "<div class=\"alert-info\">\n",
    "    \n",
    "\n",
    "<b>Note</b>\n",
    "\n",
    "<b>num_orders</b> — Jumlah Order <br>\n"
   ]
  },
  {
   "cell_type": "markdown",
   "metadata": {},
   "source": [
    "## Persiapan"
   ]
  },
  {
   "cell_type": "code",
   "execution_count": 57,
   "metadata": {},
   "outputs": [],
   "source": [
    "# Getting sum data order for every 1 hour\n",
    "data = data.resample('1H').sum()"
   ]
  },
  {
   "cell_type": "code",
   "execution_count": 58,
   "metadata": {},
   "outputs": [
    {
     "data": {
      "text/html": [
       "<div>\n",
       "<style scoped>\n",
       "    .dataframe tbody tr th:only-of-type {\n",
       "        vertical-align: middle;\n",
       "    }\n",
       "\n",
       "    .dataframe tbody tr th {\n",
       "        vertical-align: top;\n",
       "    }\n",
       "\n",
       "    .dataframe thead th {\n",
       "        text-align: right;\n",
       "    }\n",
       "</style>\n",
       "<table border=\"1\" class=\"dataframe\">\n",
       "  <thead>\n",
       "    <tr style=\"text-align: right;\">\n",
       "      <th></th>\n",
       "      <th>num_orders</th>\n",
       "    </tr>\n",
       "    <tr>\n",
       "      <th>datetime</th>\n",
       "      <th></th>\n",
       "    </tr>\n",
       "  </thead>\n",
       "  <tbody>\n",
       "    <tr>\n",
       "      <th>2018-03-01 00:00:00</th>\n",
       "      <td>124</td>\n",
       "    </tr>\n",
       "    <tr>\n",
       "      <th>2018-03-01 01:00:00</th>\n",
       "      <td>85</td>\n",
       "    </tr>\n",
       "    <tr>\n",
       "      <th>2018-03-01 02:00:00</th>\n",
       "      <td>71</td>\n",
       "    </tr>\n",
       "    <tr>\n",
       "      <th>2018-03-01 03:00:00</th>\n",
       "      <td>66</td>\n",
       "    </tr>\n",
       "    <tr>\n",
       "      <th>2018-03-01 04:00:00</th>\n",
       "      <td>43</td>\n",
       "    </tr>\n",
       "  </tbody>\n",
       "</table>\n",
       "</div>"
      ],
      "text/plain": [
       "                     num_orders\n",
       "datetime                       \n",
       "2018-03-01 00:00:00         124\n",
       "2018-03-01 01:00:00          85\n",
       "2018-03-01 02:00:00          71\n",
       "2018-03-01 03:00:00          66\n",
       "2018-03-01 04:00:00          43"
      ]
     },
     "execution_count": 58,
     "metadata": {},
     "output_type": "execute_result"
    }
   ],
   "source": [
    "# Melakukan pengecekan data\n",
    "data.head(5)"
   ]
  },
  {
   "cell_type": "markdown",
   "metadata": {},
   "source": [
    "## Analisis"
   ]
  },
  {
   "cell_type": "code",
   "execution_count": 59,
   "metadata": {
    "scrolled": true
   },
   "outputs": [
    {
     "data": {
      "text/html": [
       "<div>\n",
       "<style scoped>\n",
       "    .dataframe tbody tr th:only-of-type {\n",
       "        vertical-align: middle;\n",
       "    }\n",
       "\n",
       "    .dataframe tbody tr th {\n",
       "        vertical-align: top;\n",
       "    }\n",
       "\n",
       "    .dataframe thead th {\n",
       "        text-align: right;\n",
       "    }\n",
       "</style>\n",
       "<table border=\"1\" class=\"dataframe\">\n",
       "  <thead>\n",
       "    <tr style=\"text-align: right;\">\n",
       "      <th></th>\n",
       "      <th>num_orders</th>\n",
       "    </tr>\n",
       "  </thead>\n",
       "  <tbody>\n",
       "    <tr>\n",
       "      <th>count</th>\n",
       "      <td>4416.000000</td>\n",
       "    </tr>\n",
       "    <tr>\n",
       "      <th>mean</th>\n",
       "      <td>84.422781</td>\n",
       "    </tr>\n",
       "    <tr>\n",
       "      <th>std</th>\n",
       "      <td>45.023853</td>\n",
       "    </tr>\n",
       "    <tr>\n",
       "      <th>min</th>\n",
       "      <td>0.000000</td>\n",
       "    </tr>\n",
       "    <tr>\n",
       "      <th>25%</th>\n",
       "      <td>54.000000</td>\n",
       "    </tr>\n",
       "    <tr>\n",
       "      <th>50%</th>\n",
       "      <td>78.000000</td>\n",
       "    </tr>\n",
       "    <tr>\n",
       "      <th>75%</th>\n",
       "      <td>107.000000</td>\n",
       "    </tr>\n",
       "    <tr>\n",
       "      <th>max</th>\n",
       "      <td>462.000000</td>\n",
       "    </tr>\n",
       "  </tbody>\n",
       "</table>\n",
       "</div>"
      ],
      "text/plain": [
       "        num_orders\n",
       "count  4416.000000\n",
       "mean     84.422781\n",
       "std      45.023853\n",
       "min       0.000000\n",
       "25%      54.000000\n",
       "50%      78.000000\n",
       "75%     107.000000\n",
       "max     462.000000"
      ]
     },
     "execution_count": 59,
     "metadata": {},
     "output_type": "execute_result"
    }
   ],
   "source": [
    "# Mendapatkan informasi detil data\n",
    "data.describe()"
   ]
  },
  {
   "cell_type": "code",
   "execution_count": 60,
   "metadata": {},
   "outputs": [],
   "source": [
    "# Getting sum data for every 1 day and month\n",
    "data_month_sum = data.resample('1M').sum()\n",
    "data_day_sum = data.resample('1D').sum()"
   ]
  },
  {
   "cell_type": "code",
   "execution_count": 61,
   "metadata": {},
   "outputs": [
    {
     "data": {
      "text/plain": [
       "<AxesSubplot:xlabel='datetime'>"
      ]
     },
     "execution_count": 61,
     "metadata": {},
     "output_type": "execute_result"
    },
    {
     "data": {
      "image/png": "[encoded data removed]",
      "text/plain": [
       "<Figure size 432x288 with 1 Axes>"
      ]
     },
     "metadata": {
      "needs_background": "light"
     },
     "output_type": "display_data"
    }
   ],
   "source": [
    "# Melihat persebaran data order setiap bulannya.\n",
    "sns.lineplot(data=data_month_sum)"
   ]
  },
  {
   "cell_type": "code",
   "execution_count": 62,
   "metadata": {
    "scrolled": true
   },
   "outputs": [
    {
     "data": {
      "text/plain": [
       "<AxesSubplot:xlabel='datetime'>"
      ]
     },
     "execution_count": 62,
     "metadata": {},
     "output_type": "execute_result"
    },
    {
     "data": {
      "image/png": "[encoded data removed]",
      "text/plain": [
       "<Figure size 432x288 with 1 Axes>"
      ]
     },
     "metadata": {
      "needs_background": "light"
     },
     "output_type": "display_data"
    }
   ],
   "source": [
    "# Melihat persebaran data order setiap harinya\n",
    "sns.lineplot(data=data_day_sum)"
   ]
  },
  {
   "cell_type": "code",
   "execution_count": 63,
   "metadata": {},
   "outputs": [
    {
     "data": {
      "image/png": "[encoded data removed]",
      "text/plain": [
       "<Figure size 576x576 with 3 Axes>"
      ]
     },
     "metadata": {
      "needs_background": "light"
     },
     "output_type": "display_data"
    }
   ],
   "source": [
    "# Melihat trend , Seasonal dan residual data\n",
    "decomposed = seasonal_decompose(data_day_sum)\n",
    "plt.figure(figsize=(8, 8)) \n",
    "\n",
    "plt.subplot(311)\n",
    "decomposed.trend.plot(ax=plt.gca()) \n",
    "plt.title('Trend') \n",
    "\n",
    "plt.subplot(312) \n",
    "decomposed.seasonal['2018-03-01':'2018-03-20'].plot(ax=plt.gca()) \n",
    "plt.title('Seasonality') \n",
    "plt.subplot(313) \n",
    "decomposed.resid['2018-03-01':'2018-03-20'].plot(ax=plt.gca()) \n",
    "plt.title('Residuals') \n",
    "\n",
    "plt.tight_layout()"
   ]
  },
  {
   "cell_type": "code",
   "execution_count": 64,
   "metadata": {},
   "outputs": [
    {
     "data": {
      "text/plain": [
       "datetime\n",
       "2018-03-01    3\n",
       "2018-03-02    4\n",
       "2018-03-03    5\n",
       "2018-03-04    6\n",
       "2018-03-05    0\n",
       "2018-03-06    1\n",
       "2018-03-07    2\n",
       "2018-03-08    3\n",
       "2018-03-09    4\n",
       "2018-03-10    5\n",
       "2018-03-11    6\n",
       "2018-03-12    0\n",
       "2018-03-13    1\n",
       "2018-03-14    2\n",
       "2018-03-15    3\n",
       "Freq: D, Name: day_of_week, dtype: int64"
      ]
     },
     "execution_count": 64,
     "metadata": {},
     "output_type": "execute_result"
    }
   ],
   "source": [
    "# Melihat data dayofweek\n",
    "data_day_sum['day_of_week'] = data_day_sum.index.dayofweek\n",
    "data_day_sum['day_of_week'].head(15)\n"
   ]
  },
  {
   "cell_type": "markdown",
   "metadata": {},
   "source": [
    "<div class=\"alert-info\">\n",
    "    \n",
    "\n",
    "<b>Insight</b>\n",
    "\n",
    "- Trend penjualan meningkat setiap bulannya.\n",
    "- Order terendah terdapat disetiap hari selasa."
   ]
  },
  {
   "cell_type": "markdown",
   "metadata": {},
   "source": [
    "## Pelatihan"
   ]
  },
  {
   "cell_type": "code",
   "execution_count": 65,
   "metadata": {},
   "outputs": [],
   "source": [
    "# Membuat fungsi kalender, lag dan moving average\n",
    "def make_features(df, max_lag, rolling_mean_size):\n",
    "    data['year'] = df.index.year\n",
    "    data['month'] = df.index.month\n",
    "    data['day'] = df.index.day\n",
    "    data['dayofweek'] = df.index.dayofweek\n",
    "\n",
    "    for lag in range(1, max_lag + 1):\n",
    "        df['lag_{}'.format(lag)] = df['num_orders'].shift(lag)\n",
    "\n",
    "    df['rolling_mean'] = (\n",
    "        df['num_orders'].shift().rolling(rolling_mean_size).mean()\n",
    "    )"
   ]
  },
  {
   "cell_type": "code",
   "execution_count": 66,
   "metadata": {},
   "outputs": [],
   "source": [
    "# Mengaplikasikan fitur pada data\n",
    "make_features(df=data, max_lag=24, rolling_mean_size=10)"
   ]
  },
  {
   "cell_type": "code",
   "execution_count": 67,
   "metadata": {},
   "outputs": [],
   "source": [
    "# Train test split\n",
    "train, test = train_test_split(data, shuffle=False, test_size=0.1)\n"
   ]
  },
  {
   "cell_type": "code",
   "execution_count": 68,
   "metadata": {},
   "outputs": [],
   "source": [
    "# menghapus data training dengan nilai kosong/ NaN\n",
    "train = train.dropna()"
   ]
  },
  {
   "cell_type": "code",
   "execution_count": 69,
   "metadata": {},
   "outputs": [],
   "source": [
    "# Membagi fitur dan target pada data Train dan test\n",
    "features_train = train.drop(['num_orders'], axis=1)\n",
    "target_train = train['num_orders']\n",
    "features_test = test.drop(['num_orders'], axis=1)\n",
    "target_test = test['num_orders']"
   ]
  },
  {
   "cell_type": "markdown",
   "metadata": {},
   "source": [
    "### Linear Regression"
   ]
  },
  {
   "cell_type": "code",
   "execution_count": 70,
   "metadata": {},
   "outputs": [],
   "source": [
    "# Menetapkan model\n",
    "lr = LinearRegression()"
   ]
  },
  {
   "cell_type": "code",
   "execution_count": 71,
   "metadata": {},
   "outputs": [
    {
     "data": {
      "text/plain": [
       "LinearRegression()"
      ]
     },
     "execution_count": 71,
     "metadata": {},
     "output_type": "execute_result"
    }
   ],
   "source": [
    "# Melatih data menggunakan model Linear Regression\n",
    "lr.fit(features_train, target_train)"
   ]
  },
  {
   "cell_type": "code",
   "execution_count": 72,
   "metadata": {},
   "outputs": [],
   "source": [
    "# Memprediksi data menggunakan model Linear Regression\n",
    "y_pred_lr = lr.predict(features_test)"
   ]
  },
  {
   "cell_type": "code",
   "execution_count": 73,
   "metadata": {},
   "outputs": [
    {
     "name": "stdout",
     "output_type": "stream",
     "text": [
      "Root Mean Squared Error (RMSE): 45.529337080209395\n"
     ]
    }
   ],
   "source": [
    "# kalkulasi nilai RMSE\n",
    "rmse = np.sqrt(mean_squared_error(target_test, y_pred_lr))\n",
    "print(f'Root Mean Squared Error (RMSE): {rmse}')"
   ]
  },
  {
   "cell_type": "markdown",
   "metadata": {},
   "source": [
    "### Ridge Regression"
   ]
  },
  {
   "cell_type": "code",
   "execution_count": 92,
   "metadata": {},
   "outputs": [],
   "source": [
    "# Menetapkan model\n",
    "ridge = RidgeCV(alphas=[0.1, 1.0, 10.0], cv=5)"
   ]
  },
  {
   "cell_type": "code",
   "execution_count": 93,
   "metadata": {},
   "outputs": [
    {
     "data": {
      "text/plain": [
       "RidgeCV(alphas=array([ 0.1,  1. , 10. ]), cv=5)"
      ]
     },
     "execution_count": 93,
     "metadata": {},
     "output_type": "execute_result"
    }
   ],
   "source": [
    "# Melatih data menggunakan model Linear Regression\n",
    "ridge.fit(features_train, target_train)"
   ]
  },
  {
   "cell_type": "code",
   "execution_count": 94,
   "metadata": {},
   "outputs": [],
   "source": [
    "# Memprediksi data menggunakan model Linear Regression\n",
    "y_pred_ridge = ridge.predict(features_test)"
   ]
  },
  {
   "cell_type": "code",
   "execution_count": 95,
   "metadata": {},
   "outputs": [
    {
     "name": "stdout",
     "output_type": "stream",
     "text": [
      "Root Mean Squared Error (RMSE): 45.523811284860656\n"
     ]
    }
   ],
   "source": [
    "# kalkulasi nilai RMSE\n",
    "rmse = np.sqrt(mean_squared_error(target_test, y_pred_ridge))\n",
    "print(f'Root Mean Squared Error (RMSE): {rmse}')"
   ]
  },
  {
   "cell_type": "markdown",
   "metadata": {},
   "source": [
    "### Lasso Regression"
   ]
  },
  {
   "cell_type": "code",
   "execution_count": 99,
   "metadata": {},
   "outputs": [],
   "source": [
    "# Menetapkan model\n",
    "lasso = LassoCV(alphas=[0.1, 1.0, 10.0], cv=5)"
   ]
  },
  {
   "cell_type": "code",
   "execution_count": 100,
   "metadata": {},
   "outputs": [
    {
     "data": {
      "text/plain": [
       "LassoCV(alphas=[0.1, 1.0, 10.0], cv=5)"
      ]
     },
     "execution_count": 100,
     "metadata": {},
     "output_type": "execute_result"
    }
   ],
   "source": [
    "# Melatih data menggunakan model Linear Regression\n",
    "lasso.fit(features_train, target_train)"
   ]
  },
  {
   "cell_type": "code",
   "execution_count": 101,
   "metadata": {},
   "outputs": [],
   "source": [
    "# Memprediksi data menggunakan model Linear Regression\n",
    "y_pred_lasso = lasso.predict(features_test)"
   ]
  },
  {
   "cell_type": "code",
   "execution_count": 102,
   "metadata": {},
   "outputs": [
    {
     "name": "stdout",
     "output_type": "stream",
     "text": [
      "Root Mean Squared Error (RMSE): 45.47600252748553\n"
     ]
    }
   ],
   "source": [
    "# kalkulasi nilai RMSE\n",
    "rmse = np.sqrt(mean_squared_error(target_test, y_pred_lasso))\n",
    "print(f'Root Mean Squared Error (RMSE): {rmse}')"
   ]
  },
  {
   "cell_type": "markdown",
   "metadata": {},
   "source": [
    "### Random Forest Regression"
   ]
  },
  {
   "cell_type": "code",
   "execution_count": 278,
   "metadata": {},
   "outputs": [],
   "source": [
    "# Menetapkan model\n",
    "rf = RandomForestRegressor(n_estimators=50,random_state=12, max_depth=18)"
   ]
  },
  {
   "cell_type": "code",
   "execution_count": 279,
   "metadata": {},
   "outputs": [
    {
     "data": {
      "text/plain": [
       "RandomForestRegressor(max_depth=18, n_estimators=50, random_state=12)"
      ]
     },
     "execution_count": 279,
     "metadata": {},
     "output_type": "execute_result"
    }
   ],
   "source": [
    "# Melatih data menggunakan model Linear Regression\n",
    "rf.fit(features_train, target_train)"
   ]
  },
  {
   "cell_type": "code",
   "execution_count": 280,
   "metadata": {},
   "outputs": [],
   "source": [
    "# Memprediksi data menggunakan model Linear Regression\n",
    "y_pred_rf = rf.predict(features_test)"
   ]
  },
  {
   "cell_type": "code",
   "execution_count": 281,
   "metadata": {},
   "outputs": [
    {
     "name": "stdout",
     "output_type": "stream",
     "text": [
      "Root Mean Squared Error (RMSE): 42.315224849775895\n"
     ]
    }
   ],
   "source": [
    "# kalkulasi nilai RMSE\n",
    "rmse = np.sqrt(mean_squared_error(target_test, y_pred_rf))\n",
    "print(f'Root Mean Squared Error (RMSE): {rmse}')"
   ]
  },
  {
   "cell_type": "markdown",
   "metadata": {},
   "source": [
    "### Gradient Boosting"
   ]
  },
  {
   "cell_type": "code",
   "execution_count": 234,
   "metadata": {},
   "outputs": [],
   "source": [
    "# Menetapkan model\n",
    "gbr = GradientBoostingRegressor(n_estimators=100, random_state=12, max_depth=9)"
   ]
  },
  {
   "cell_type": "code",
   "execution_count": 235,
   "metadata": {},
   "outputs": [
    {
     "data": {
      "text/plain": [
       "GradientBoostingRegressor(max_depth=9, random_state=12)"
      ]
     },
     "execution_count": 235,
     "metadata": {},
     "output_type": "execute_result"
    }
   ],
   "source": [
    "# Melatih data menggunakan model Linear Regression\n",
    "gbr.fit(features_train, target_train)"
   ]
  },
  {
   "cell_type": "code",
   "execution_count": 236,
   "metadata": {},
   "outputs": [],
   "source": [
    "# Memprediksi data menggunakan model Linear Regression\n",
    "y_pred_gbr = gbr.predict(features_test)"
   ]
  },
  {
   "cell_type": "code",
   "execution_count": 237,
   "metadata": {
    "scrolled": false
   },
   "outputs": [
    {
     "name": "stdout",
     "output_type": "stream",
     "text": [
      "Root Mean Squared Error (RMSE): 44.037926865883726\n"
     ]
    }
   ],
   "source": [
    "# kalkulasi nilai RMSE\n",
    "rmse = np.sqrt(mean_squared_error(target_test, y_pred_gbr))\n",
    "print(f'Root Mean Squared Error (RMSE): {rmse}')"
   ]
  },
  {
   "cell_type": "markdown",
   "metadata": {},
   "source": [
    "## Pengujian"
   ]
  },
  {
   "cell_type": "code",
   "execution_count": 50,
   "metadata": {},
   "outputs": [],
   "source": [
    "# Menetapkan Model yang digunakan.\n",
    "models = [\n",
    "('Linear Regression', LinearRegression()),\n",
    "('Ridge Regression', RidgeCV(alphas=[0.1, 1.0, 10.0], cv=5)),\n",
    "('Lasso Regression', LassoCV(alphas=[0.1, 1.0, 10.0], cv=5)),\n",
    "('Random Forest', RandomForestRegressor(n_estimators=20,random_state=12, max_depth=18)),\n",
    "('Gradient Boosting', GradientBoostingRegressor(n_estimators=20, random_state=12))]\n",
    "\n",
    "evaluation_metrics = {'Model': [], 'RMSE': []}"
   ]
  },
  {
   "cell_type": "code",
   "execution_count": 51,
   "metadata": {},
   "outputs": [],
   "source": [
    "# Looping model dan penilaian.\n",
    "for name, model in models:\n",
    "    model.fit(features_train, target_train)\n",
    "    y_pred = model.predict(features_test)\n",
    "    RMSE = np.sqrt(mean_squared_error(target_test, y_pred))\n",
    "   \n",
    "    evaluation_metrics['Model'].append(name)\n",
    "    evaluation_metrics['RMSE'].append(RMSE)"
   ]
  },
  {
   "cell_type": "code",
   "execution_count": 53,
   "metadata": {},
   "outputs": [
    {
     "name": "stdout",
     "output_type": "stream",
     "text": [
      "               Model       RMSE\n",
      "0  Linear Regression  40.540767\n",
      "1   Ridge Regression  40.536892\n",
      "2   Lasso Regression  40.505405\n",
      "3      Random Forest  42.523442\n",
      "4  Gradient Boosting  52.763006\n"
     ]
    }
   ],
   "source": [
    "# Membuat table evaluasi\n",
    "evaluation_metrics_df = pd.DataFrame(evaluation_metrics)\n",
    "print(evaluation_metrics_df)"
   ]
  },
  {
   "cell_type": "markdown",
   "metadata": {},
   "source": [
    "<div class=\"alert-info\">\n",
    "    \n",
    "\n",
    "<b>Insight</b>\n",
    "\n",
    "RMSE tidak lebih dari 48 pada model Linear Regression, Ridge Regression, Lasso Regression dan Random Forest."
   ]
  }
 ],
 "metadata": {
  "kernelspec": {
   "display_name": "Python 3 (ipykernel)",
   "language": "python",
   "name": "python3"
  },
  "language_info": {
   "codemirror_mode": {
    "name": "ipython",
    "version": 3
   },
   "file_extension": ".py",
   "mimetype": "text/x-python",
   "name": "python",
   "nbconvert_exporter": "python",
   "pygments_lexer": "ipython3",
   "version": "3.9.19"
  },
  "toc": {
   "base_numbering": 1,
   "nav_menu": {},
   "number_sections": true,
   "sideBar": true,
   "skip_h1_title": true,
   "title_cell": "Table of Contents",
   "title_sidebar": "Contents",
   "toc_cell": false,
   "toc_position": {
    "height": "calc(100% - 180px)",
    "left": "10px",
    "top": "150px",
    "width": "416.098px"
   },
   "toc_section_display": true,
   "toc_window_display": false
  }
 },
 "nbformat": 4,
 "nbformat_minor": 2
}
